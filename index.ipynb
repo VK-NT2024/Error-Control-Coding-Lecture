{
 "cells": [
  {
   "cell_type": "markdown",
   "metadata": {
    "nbsphinx": "hidden"
   },
   "source": [
    "# Error Control Coding\n",
    "\n",
    "This collection of [jupyter](https://jupyter.org/) notebooks introduces various topics of Error Control Coding. The theory is briefly summarized and accompanied by computational examples written in [IPython 3](http://ipython.org/). For detailed information about the theoretical background, we refer to the lecture slides and the recommended literature. The notebooks constitute the project to the masters course Error Control Coding read by Volker Kühn, Institute of Communications Engineering, Universität Rostock. "
   ]
  },
  {
   "cell_type": "markdown",
   "metadata": {
    "nbsphinx-toctree": {
     "maxdepth": 3,
     "numbered": true
    }
   },
   "source": [
    "# Exercises"
   ]
  },
  {
   "cell_type": "markdown",
   "metadata": {
    "nbsphinx-toctree": {
     "maxdepth": 3,
     "numbered": true
    }
   },
   "source": [
    "1. [Uncoded ASK transmission](ECC-1_ASKtransmission.ipynb)\n",
    "2. [Error Probabilities and Mutual Information](ECC-2_ErrorRateMutualInformation.ipynb)\n",
    "3. [Linear Block Codes](ECC-3_BlockCodes.ipynb)\n",
    "4. [Convolutional Codes](ECC-4_ConvCodes.ipynb)\n",
    "5. [Soft-Output Decoding](ECC-5_SoftOutputDecoding.ipynb)\n",
    "6. [Turbo Decoding of Serially Concatenated Codes](ECC-6_TurboDecodingSerial.ipynb)\n",
    "7. [Turbo Decoding of Parallel Concatenated Codes](ECC-7_TurboDecodingParallel.ipynb)\n",
    "8. [EXIT Charts](ECC-8_EXITcharts.ipynb)\n"
   ]
  },
  {
   "cell_type": "markdown",
   "metadata": {},
   "source": [
    "# Literature\n",
    "\n",
    "The contents base on the following literature:\n",
    "\n",
    "* Lecture slides available via StudIP\n",
    "* Friedrichs: “Kanalcodierung\", Springer Verlag, Berlin, 1996\n",
    "* Bossert: “Kanalcodierung”, De Gruyter Oldenbourg, 2013\n",
    "* Peter Höher: “Grundlagen der digitalen Informationsübertragung”, Springer-Verlag, 2013\n",
    "* Lin/Costello: “Error Control Codin -- Fundamentals and Applications\", Pearson Prentice Hall, 2004\n",
    "* Richardson, Urbanke: “Modern Coding Theory”, Cambridge University Press, 2012\n",
    "* Johannesson/Zigangirov: “Fundamentals of Convolutional Codes”, Wiley, 2015\n",
    "* Cover, Thomas: “Elements of Information Theory”, Wiley, 2005\n",
    "* Neubauer, Freudenberger, Kühn: “Coding Theory – Algorithms, Architectures, and Applications”, Wiley, 2007"
   ]
  },
  {
   "cell_type": "markdown",
   "metadata": {},
   "source": [
    "# Contributors\n",
    "\n",
    "* Volker Kühn (author)\n",
    "* Clemens-Konrad Müller (proofreading)\n",
    "* Steffen Steiner (proofreading)\n",
    "* Ahmed Alaa Ahmed Alkishki (implementation of ECC library, code review)"
   ]
  },
  {
   "cell_type": "markdown",
   "metadata": {},
   "source": [
    "**Copyright**\n",
    "\n",
    "The notebooks are provided as [Open Educational Resources](https://en.wikipedia.org/wiki/Open_educational_resources). Feel free to use the notebooks for your own purposes. The text is licensed under [Creative Commons Attribution 4.0](https://creativecommons.org/licenses/by/4.0/), the code of the IPython examples under the [MIT license](https://opensource.org/licenses/MIT). Please attribute the work as follows: *Sascha Spors, Digital Signal Processing - Lecture notes featuring computational examples*."
   ]
  }
 ],
 "metadata": {
  "anaconda-cloud": {},
  "kernelspec": {
   "display_name": "Python 3 (ipykernel)",
   "language": "python",
   "name": "python3"
  },
  "language_info": {
   "codemirror_mode": {
    "name": "ipython",
    "version": 3
   },
   "file_extension": ".py",
   "mimetype": "text/x-python",
   "name": "python",
   "nbconvert_exporter": "python",
   "pygments_lexer": "ipython3",
   "version": "3.9.17"
  }
 },
 "nbformat": 4,
 "nbformat_minor": 4
}
